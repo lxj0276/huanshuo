{
 "cells": [
  {
   "cell_type": "code",
   "execution_count": 11,
   "metadata": {},
   "outputs": [
    {
     "name": "stdout",
     "output_type": "stream",
     "text": [
      "图片已开始下载，注意查看文件夹\n",
      "图片已开始下载，注意查看文件夹\n",
      "图片已开始下载，注意查看文件夹\n",
      "图片已开始下载，注意查看文件夹\n",
      "图片已开始下载，注意查看文件夹\n",
      "图片已开始下载，注意查看文件夹\n",
      "图片已开始下载，注意查看文件夹\n",
      "图片已开始下载，注意查看文件夹\n",
      "图片已开始下载，注意查看文件夹\n",
      "图片已开始下载，注意查看文件夹\n",
      "图片已开始下载，注意查看文件夹\n",
      "图片已开始下载，注意查看文件夹\n",
      "图片已开始下载，注意查看文件夹\n",
      "图片已开始下载，注意查看文件夹\n",
      "图片已开始下载，注意查看文件夹\n",
      "图片已开始下载，注意查看文件夹\n",
      "图片已开始下载，注意查看文件夹\n",
      "图片已开始下载，注意查看文件夹\n",
      "图片已开始下载，注意查看文件夹\n",
      "图片已开始下载，注意查看文件夹\n",
      "['http://imgsrc.baidu.com/forum/w%3D580%3Bcp%3Dtieba%2C10%2C302%3Bap%3D%C9%BC%B1%BE%D3%D0%C3%C0%B0%C9%2C90%2C310/sign=b2bea84cb3119313c743ffb855036fa7/1e29460fd9f9d72a81a47693d52a2834369bbbe5.jpg', 'http://imgsrc.baidu.com/forum/w%3D580%3Bcp%3Dtieba%2C10%2C357%3Bap%3D%C9%BC%B1%BE%D3%D0%C3%C0%B0%C9%2C90%2C365/sign=4fc90a3cb3b7d0a27bc90495fbd41579/556acef9d72a6059c7d087942934349b013bbae5.jpg', 'http://imgsrc.baidu.com/forum/w%3D580%3Bcp%3Dtieba%2C10%2C390%3Bap%3D%C9%BC%B1%BE%D3%D0%C3%C0%B0%C9%2C90%2C398/sign=f098edbf4b90f60304b09c4f0929d06b/0bd6182442a7d933b28f85fdac4bd11372f001f9.jpg', 'http://imgsrc.baidu.com/forum/w%3D580%3Bcp%3Dtieba%2C10%2C357%3Bap%3D%C9%BC%B1%BE%D3%D0%C3%C0%B0%C9%2C90%2C365/sign=9ff41888adaf2eddd4f149e1bd2b6299/30fe143b5bb5c9eafc33656dd439b60038f3b3e5.jpg', 'http://imgsrc.baidu.com/forum/w%3D580%3Bcp%3Dtieba%2C10%2C357%3Bap%3D%C9%BC%B1%BE%D3%D0%C3%C0%B0%C9%2C90%2C365/sign=4e312f678c1001e94e3c14078835189c/11ab21d3d539b600d70e6939e850352ac45cb7e5.jpg', 'http://imgsrc.baidu.com/forum/w%3D580%3Bcp%3Dtieba%2C10%2C357%3Bap%3D%C9%BC%B1%BE%D3%D0%C3%C0%B0%C9%2C90%2C365/sign=b6f581dc8435e5dd902ca5d746fdc49f/9776a77eca806538f5e0c59d96dda144ac34829f.jpg', 'http://imgsrc.baidu.com/forum/w%3D580%3Bcp%3Dtieba%2C10%2C357%3Bap%3D%C9%BC%B1%BE%D3%D0%C3%C0%B0%C9%2C90%2C365/sign=a7bc9aa59c16fdfad86cc6e684b4ef24/a521ba345982b2b7d0f1584a30adcbef77099bb2.jpg', 'http://imgsrc.baidu.com/forum/w%3D580%3Bcp%3Dtieba%2C10%2C357%3Bap%3D%C9%BC%B1%BE%D3%D0%C3%C0%B0%C9%2C90%2C365/sign=9f2ea944ae51f3dec3b2b96ca4d5936f/5de7a5b7d0a20cf433959f5177094b36adaf999f.jpg', 'http://imgsrc.baidu.com/forum/w%3D580%3Bcp%3Dtieba%2C10%2C357%3Bap%3D%C9%BC%B1%BE%D3%D0%C3%C0%B0%C9%2C90%2C365/sign=153553b629381f309e198da1993a2f78/f353b8c379310a553803bf7ab64543a9832610f9.jpg', 'http://imgsrc.baidu.com/forum/w%3D580%3Bcp%3Dtieba%2C10%2C357%3Bap%3D%C9%BC%B1%BE%D3%D0%C3%C0%B0%C9%2C90%2C365/sign=2e9fd68be4dde711e7d243fe97d4ad6b/b41bdd8065380cd76adec463a044ad345b8281e5.jpg', 'http://imgsrc.baidu.com/forum/w%3D580%3Bcp%3Dtieba%2C10%2C302%3Bap%3D%C9%BC%B1%BE%D3%D0%C3%C0%B0%C9%2C90%2C310/sign=44502f5255e736d158138c00ab6b2cb2/615d1bd7912397dd5d1af98a5882b2b7d1a28746.jpg', 'http://imgsrc.baidu.com/forum/w%3D580%3Bcp%3Dtieba%2C10%2C357%3Bap%3D%C9%BC%B1%BE%D3%D0%C3%C0%B0%C9%2C90%2C365/sign=6eb12278a6efce1bea2bc8c29f6a90ae/954680dda144ad34a7dce609d1a20cf430ad8546.jpg', 'http://imgsrc.baidu.com/forum/w%3D580%3Bcp%3Dtieba%2C10%2C390%3Bap%3D%C9%BC%B1%BE%D3%D0%C3%C0%B0%C9%2C90%2C398/sign=fa122b806609c93d07f20effaf069bac/cf765e540923dd54654bc6e6d009b3de9d8248ec.jpg', 'http://imgsrc.baidu.com/forum/w%3D580%3Bcp%3Dtieba%2C10%2C357%3Bap%3D%C9%BC%B1%BE%D3%D0%C3%C0%B0%C9%2C90%2C365/sign=0fc2cb83f9dcd100cd9cf82942b02460/4d311e23dd54564ea65d85b7b2de9c82d0584fec.jpg', 'http://imgsrc.baidu.com/forum/w%3D580%3Bcp%3Dtieba%2C10%2C357%3Bap%3D%C9%BC%B1%BE%D3%D0%C3%C0%B0%C9%2C90%2C365/sign=ced985bebba1cd1105b672288929ab8c/d931414e9258d10985dbc83cd058ccbf6d814dec.jpg', 'http://imgsrc.baidu.com/forum/w%3D580%3Bcp%3Dtieba%2C10%2C357%3Bap%3D%C9%BC%B1%BE%D3%D0%C3%C0%B0%C9%2C90%2C365/sign=f9406e972cf5e0feee1889096c5b57d8/4f53bbaf2edda3cc7586d9ae00e93901203f9246.jpg', 'http://imgsrc.baidu.com/forum/w%3D580%3Bcp%3Dtieba%2C10%2C357%3Bap%3D%C9%BC%B1%BE%D3%D0%C3%C0%B0%C9%2C90%2C365/sign=eba6bdee342ac65c6705667bcbc9d161/94378f22720e0cf306eb2f750b46f21fbf09aa81.jpg', 'http://imgsrc.baidu.com/forum/w%3D580%3Bcp%3Dtieba%2C10%2C357%3Bap%3D%C9%BC%B1%BE%D3%D0%C3%C0%B0%C9%2C90%2C365/sign=f95b6e972cf5e0feee1889096c5b57d8/4f53bbaf2edda3cc759dd9ae00e93901203f92a3.jpg', 'http://imgsrc.baidu.com/forum/w%3D580%3Bcp%3Dtieba%2C10%2C357%3Bap%3D%C9%BC%B1%BE%D3%D0%C3%C0%B0%C9%2C90%2C365/sign=6a30c7adb17eca80120539efa118f4ad/f67aa9096b63f624b341588d8644ebf81b4ca381.jpg', 'http://imgsrc.baidu.com/forum/w%3D580%3Bcp%3Dtieba%2C10%2C357%3Bap%3D%C9%BC%B1%BE%D3%D0%C3%C0%B0%C9%2C90%2C365/sign=5d0b5d9ddc54564ee565e43183e5fff2/508221d12f2eb9388f0f1b7cd4628535e4dd6f46.jpg']\n"
     ]
    }
   ],
   "source": [
    "import urllib.request\n",
    "import re\n",
    "import os\n",
    "import urllib\n",
    "\n",
    "#根据给定的网址来获取网页详细信息，得到的html就是网页的源代码\n",
    "def getHtml(url):\n",
    "    page = urllib.request.urlopen(url)\n",
    "    html = page.read()\n",
    "    return html.decode('UTF-8')\n",
    "\n",
    "def getImg(html):\n",
    "    reg = r'src=\"(.+?\\.jpg)\" pic_ext'\n",
    "    imgre = re.compile(reg)                              #转换成一个正则对象\n",
    "    imglist = imgre.findall(html)                        #表示在整个网页中过滤出所有图片的地址，放在imglist中\n",
    "\n",
    "    x = 0                                                #声明一个变量赋值\n",
    "    path = '/users/liuhuanshuo/desktop/python_work/pachong/'           #设置保存地址\n",
    "\n",
    "\n",
    "    if not os.path.isdir(path):\n",
    "        os.makedirs(path)                                          # 将图片保存到H:..\\\\test文件夹中，如果没有test文件夹则创建\n",
    "    paths = path+'\\\\'                                              #保存在test路径下\n",
    "\n",
    "    for imgurl in imglist:\n",
    "\n",
    "        urllib.request.urlretrieve(imgurl,'{0}{1}.jpg'.format(paths,x))               #打开imglist，下载图片保存在本地，\n",
    "                                           #format格式化字符串\n",
    "        x = x + 1\n",
    "        print('图片已开始下载，注意查看文件夹')\n",
    "    return imglist\n",
    "\n",
    "html = getHtml(\"http://tieba.baidu.com/p/2166231880\")         #获取该网址网页详细信息，html就是网页的源代码\n",
    "print (getImg(html))                                          #从网页源代码中分析并下载保存图片"
   ]
  },
  {
   "cell_type": "code",
   "execution_count": null,
   "metadata": {},
   "outputs": [],
   "source": []
  }
 ],
 "metadata": {
  "kernelspec": {
   "display_name": "Python 3",
   "language": "python",
   "name": "python3"
  },
  "language_info": {
   "codemirror_mode": {
    "name": "ipython",
    "version": 3
   },
   "file_extension": ".py",
   "mimetype": "text/x-python",
   "name": "python",
   "nbconvert_exporter": "python",
   "pygments_lexer": "ipython3",
   "version": "3.6.4"
  }
 },
 "nbformat": 4,
 "nbformat_minor": 2
}
