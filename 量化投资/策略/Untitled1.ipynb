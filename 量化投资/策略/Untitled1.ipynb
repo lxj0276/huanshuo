{
 "cells": [
  {
   "cell_type": "code",
   "execution_count": 4,
   "metadata": {},
   "outputs": [],
   "source": [
    "from sklearn.cluster import KMeans\n",
    "import pandas as pd\n",
    "import time\n",
    "import os\n",
    "from pandas.core.frame import DataFrame\n",
    "import tushare as ts\n",
    "from sklearn.manifold import TSNE\n",
    "import matplotlib.pyplot as plt"
   ]
  },
  {
   "cell_type": "code",
   "execution_count": 36,
   "metadata": {},
   "outputs": [
    {
     "name": "stderr",
     "output_type": "stream",
     "text": [
      "/anaconda3/lib/python3.6/site-packages/ipykernel_launcher.py:8: DeprecationWarning: \n",
      ".ix is deprecated. Please use\n",
      ".loc for label based indexing or\n",
      ".iloc for positional indexing\n",
      "\n",
      "See the documentation here:\n",
      "http://pandas.pydata.org/pandas-docs/stable/indexing.html#ix-indexer-is-deprecated\n",
      "  \n"
     ]
    },
    {
     "data": {
      "text/html": [
       "<div>\n",
       "<style scoped>\n",
       "    .dataframe tbody tr th:only-of-type {\n",
       "        vertical-align: middle;\n",
       "    }\n",
       "\n",
       "    .dataframe tbody tr th {\n",
       "        vertical-align: top;\n",
       "    }\n",
       "\n",
       "    .dataframe thead th {\n",
       "        text-align: right;\n",
       "    }\n",
       "</style>\n",
       "<table border=\"1\" class=\"dataframe\">\n",
       "  <thead>\n",
       "    <tr style=\"text-align: right;\">\n",
       "      <th></th>\n",
       "      <th>日期</th>\n",
       "      <th>buy</th>\n",
       "      <th>end</th>\n",
       "      <th>select</th>\n",
       "    </tr>\n",
       "  </thead>\n",
       "  <tbody>\n",
       "    <tr>\n",
       "      <th>0</th>\n",
       "      <td>2016-04-01</td>\n",
       "      <td>F</td>\n",
       "      <td>F</td>\n",
       "      <td>T</td>\n",
       "    </tr>\n",
       "    <tr>\n",
       "      <th>1</th>\n",
       "      <td>2016-04-08</td>\n",
       "      <td>F</td>\n",
       "      <td>T</td>\n",
       "      <td>T</td>\n",
       "    </tr>\n",
       "  </tbody>\n",
       "</table>\n",
       "</div>"
      ],
      "text/plain": [
       "           日期 buy end select\n",
       "0  2016-04-01   F   F      T\n",
       "1  2016-04-08   F   T      T"
      ]
     },
     "execution_count": 36,
     "metadata": {},
     "output_type": "execute_result"
    }
   ],
   "source": [
    "begin = '2016-04-01'\n",
    "end = '2016-04-15'\n",
    "\n",
    "a = pd.read_excel('/Users/liuhuanshuo/Desktop/pool_date_new.xlsx') #读取经过处理的时间文件 \n",
    "k = 0 \n",
    "for i in range(327): \n",
    "    '转换时间格式'\n",
    "    a.ix[k,0] = a.ix[k,0].strftime(\"%Y-%m-%d\")\n",
    "    k = k+1\n",
    "    \n",
    "s = list(a['日期']).index(begin) #提取开始时间的索引\n",
    "p = list(a['日期']).index(end)   #提取结束时间的索引\n",
    "a.ix[s,2] = 'F' #修改第一天的end为FALSE 这天不卖出\n",
    "a.ix[p,3] = 'F' #修改最后一天的select为FALSE 这天不计算\n",
    "t = a[s:p+1].reset_index(drop=True) #计算begin和end之间的交易日\n",
    "t = t.fillna(0)  #对空值填充0 方便之后处理\n",
    "jisuanriqi = t[t['select'] == 'T'] #选择计算日期\n",
    "jisuanriqi = jisuanriqi.reset_index(drop=True)\n",
    "jisuanriqi"
   ]
  },
  {
   "cell_type": "code",
   "execution_count": 37,
   "metadata": {},
   "outputs": [
    {
     "name": "stdout",
     "output_type": "stream",
     "text": [
      "http://www.csindex.com.cn/uploads/file/autofile/closeweight/000300closeweight.xls\n",
      "        ma5      ma10    v_ma10  turnover    volume  p_change  类别数目\n",
      "0 -0.278963 -0.281367 -0.387768 -0.255786 -0.404460 -0.035978   112\n",
      "1 -0.504186 -0.517178  0.504236  1.606976  2.147279  3.378076     8\n",
      "2  3.296784  3.314314 -0.412980  1.923354 -0.523160 -0.862332     5\n",
      "3  9.434572  9.390562 -0.912877 -0.626041 -0.854801 -0.536618     1\n",
      "4 -0.510276 -0.513671  0.715170 -0.187834  0.611545  0.069769    53\n",
      "5  0.705382  0.720267 -0.725499 -0.200873 -0.721392 -0.555897    53\n",
      "6 -0.719139 -0.729500  3.895620 -0.367720  4.980416  0.978915     3\n",
      "7  1.688393  1.628930 -0.529152  5.482800 -0.330664  2.440535     4\n",
      "8 -0.398421 -0.399170  2.382221  0.469638  1.699659 -0.362926    14\n"
     ]
    },
    {
     "name": "stderr",
     "output_type": "stream",
     "text": [
      "/anaconda3/lib/python3.6/site-packages/matplotlib/font_manager.py:1320: UserWarning: findfont: Font family ['sans-serif'] not found. Falling back to DejaVu Sans\n",
      "  (prop.get_family(), self.defaultFamily[fontext]))\n"
     ]
    },
    {
     "data": {
      "image/png": "[encoded data removed]",
      "text/plain": [
       "<matplotlib.figure.Figure at 0x1a0dd53f28>"
      ]
     },
     "metadata": {},
     "output_type": "display_data"
    },
    {
     "name": "stdout",
     "output_type": "stream",
     "text": [
      "        ma5      ma10    v_ma10  turnover    volume  p_change  类别数目\n",
      "0  0.994927  1.008099 -0.807472 -0.176303 -0.763181  0.236579    34\n",
      "1 -0.210554 -0.208387 -0.451249 -0.301606 -0.471391 -0.117916   118\n",
      "2 -0.469871 -0.479573  2.936041  0.639709  2.897741 -0.591754    11\n",
      "3  4.649954  4.555228 -0.758337  3.694087 -0.430163 -2.335474     3\n",
      "4 -0.509326 -0.512790  0.866964  0.885830  2.661197  1.870523     7\n",
      "5  0.880941  0.854585  0.151257  2.894060  0.101462 -0.503776    10\n",
      "6  0.000152 -0.003709 -0.588418  1.049694  0.044693  3.815589     5\n",
      "7  9.180289  9.322274 -0.953468 -0.641494 -0.903816 -0.379410     1\n",
      "8 -0.527683 -0.530100  0.770397 -0.266944  0.524999 -0.120793    61\n"
     ]
    },
    {
     "data": {
      "image/png": "[encoded data removed]",
      "text/plain": [
       "<matplotlib.figure.Figure at 0x1a0eeb00f0>"
      ]
     },
     "metadata": {},
     "output_type": "display_data"
    }
   ],
   "source": [
    "b = ts.get_hs300s()\n",
    "dd = pd.DataFrame(columns = ['code','date','open','close'])\n",
    "for o in jisuanriqi['日期']:\n",
    "    daima = pd.DataFrame(columns = ['code','open','close','ma5','ma10','v_ma10','turnover','volume','p_change'])\n",
    "    for i in b['code']:\n",
    "        try:\n",
    "            s = ts.get_hist_data(i,start=o,end=o)\n",
    "            s.insert(0,'code',i)\n",
    "            s = s.loc[:,['code','open','close','ma5','ma10','v_ma10','turnover','volume','p_change']]\n",
    "            daima = daima.append(s,ignore_index=True)\n",
    "        except:\n",
    "            pass\n",
    "    daima.insert(1,'date',o)\n",
    "    data = daima.loc[:,['ma5','ma10','v_ma10','turnover','volume','p_change']]\n",
    "    k = 9 #聚类的类别\n",
    "    iteration = 500 #聚类最大循环次数\n",
    "    data = data\n",
    "    data_zs = 1.0*(data - data.mean())/data.std() #数据标准化\n",
    "    model = KMeans(n_clusters = k, n_jobs = 9, max_iter = iteration) #分为k类, 并发数9\n",
    "    model.fit(data_zs) #开始聚类\n",
    "    #简单打印结果\n",
    "    r1 = pd.Series(model.labels_).value_counts() #统计各个类别的数目\n",
    "    r2 = pd.DataFrame(model.cluster_centers_) #找出聚类中心\n",
    "    r = pd.concat([r2, r1], axis = 1) #横向连接(0是纵向), 得到聚类中心对应的类别下的数目\n",
    "    r.columns = list(data.columns) + [u'类别数目'] #重命名表头\n",
    "    print(r)\n",
    "\n",
    "    #详细输出原始数据及其类别\n",
    "    r = pd.concat([data, pd.Series(model.labels_, index = data.index)], axis = 1)  #详细输出每个样本对应的类别\n",
    "    r.columns = list(data.columns) + [u'聚类类别'] #重命名表头\n",
    "    r\n",
    "\n",
    "\n",
    "\n",
    "    tsne = TSNE()\n",
    "    tsne.fit_transform(data_zs) #进行数据降维\n",
    "    tsne = pd.DataFrame(tsne.embedding_, index = data_zs.index) #转换数据格式\n",
    "    plt.rcParams['font.sans-serif'] = ['SimHei'] #用来正常显示中文标签\n",
    "    plt.rcParams['axes.unicode_minus'] = False #用来正常显示负号\n",
    "    #不同类别用不同颜色和样式绘图\n",
    "    d = tsne[r[u'聚类类别'] == 0]\n",
    "    plt.plot(d[0], d[1], 'r.')\n",
    "    d = tsne[r[u'聚类类别'] == 1]\n",
    "    plt.plot(d[0], d[1], 'bo')\n",
    "    d = tsne[r[u'聚类类别'] == 2]\n",
    "    plt.plot(d[0], d[1], 'b*')\n",
    "    d = tsne[r[u'聚类类别'] == 3]\n",
    "    plt.plot(d[0], d[1], 'g+')\n",
    "    d = tsne[r[u'聚类类别'] == 4]\n",
    "    plt.plot(d[0], d[1], 'y+')\n",
    "    d = tsne[r[u'聚类类别'] == 5]\n",
    "    plt.plot(d[0], d[1], 'b+')\n",
    "    d = tsne[r[u'聚类类别'] == 6]\n",
    "    plt.plot(d[0], d[1], 'b^')\n",
    "    d = tsne[r[u'聚类类别'] == 7]\n",
    "    plt.plot(d[0], d[1], 'r^')\n",
    "    d = tsne[r[u'聚类类别'] == 8]\n",
    "    plt.plot(d[0], d[1], 'g^')\n",
    "    plt.show()\n",
    "    \n",
    "    t= r.loc[:,'聚类类别']\n",
    "    daima.insert(10,'聚类类别',t)\n",
    "    cc = daima[(daima.聚类类别 == 7)]\n",
    "    cc = cc.reset_index(drop=True)\n",
    "    ee = cc.loc[:,['code','date','open','close']]\n",
    "    dd = dd.append(ee,ignore_index=True)"
   ]
  },
  {
   "cell_type": "code",
   "execution_count": 39,
   "metadata": {},
   "outputs": [
    {
     "data": {
      "text/html": [
       "<div>\n",
       "<style scoped>\n",
       "    .dataframe tbody tr th:only-of-type {\n",
       "        vertical-align: middle;\n",
       "    }\n",
       "\n",
       "    .dataframe tbody tr th {\n",
       "        vertical-align: top;\n",
       "    }\n",
       "\n",
       "    .dataframe thead th {\n",
       "        text-align: right;\n",
       "    }\n",
       "</style>\n",
       "<table border=\"1\" class=\"dataframe\">\n",
       "  <thead>\n",
       "    <tr style=\"text-align: right;\">\n",
       "      <th></th>\n",
       "      <th>code</th>\n",
       "      <th>date</th>\n",
       "      <th>open</th>\n",
       "      <th>close</th>\n",
       "    </tr>\n",
       "  </thead>\n",
       "  <tbody>\n",
       "    <tr>\n",
       "      <th>0</th>\n",
       "      <td>002027</td>\n",
       "      <td>2016-04-01</td>\n",
       "      <td>30.31</td>\n",
       "      <td>33.95</td>\n",
       "    </tr>\n",
       "    <tr>\n",
       "      <th>1</th>\n",
       "      <td>002174</td>\n",
       "      <td>2016-04-01</td>\n",
       "      <td>118.94</td>\n",
       "      <td>122.26</td>\n",
       "    </tr>\n",
       "    <tr>\n",
       "      <th>2</th>\n",
       "      <td>002460</td>\n",
       "      <td>2016-04-01</td>\n",
       "      <td>50.97</td>\n",
       "      <td>52.39</td>\n",
       "    </tr>\n",
       "    <tr>\n",
       "      <th>3</th>\n",
       "      <td>002601</td>\n",
       "      <td>2016-04-01</td>\n",
       "      <td>57.00</td>\n",
       "      <td>61.50</td>\n",
       "    </tr>\n",
       "    <tr>\n",
       "      <th>4</th>\n",
       "      <td>600519</td>\n",
       "      <td>2016-04-08</td>\n",
       "      <td>252.00</td>\n",
       "      <td>249.86</td>\n",
       "    </tr>\n",
       "  </tbody>\n",
       "</table>\n",
       "</div>"
      ],
      "text/plain": [
       "     code        date    open   close\n",
       "0  002027  2016-04-01   30.31   33.95\n",
       "1  002174  2016-04-01  118.94  122.26\n",
       "2  002460  2016-04-01   50.97   52.39\n",
       "3  002601  2016-04-01   57.00   61.50\n",
       "4  600519  2016-04-08  252.00  249.86"
      ]
     },
     "execution_count": 39,
     "metadata": {},
     "output_type": "execute_result"
    }
   ],
   "source": [
    "dd"
   ]
  },
  {
   "cell_type": "code",
   "execution_count": null,
   "metadata": {},
   "outputs": [],
   "source": []
  }
 ],
 "metadata": {
  "kernelspec": {
   "display_name": "Python 3",
   "language": "python",
   "name": "python3"
  },
  "language_info": {
   "codemirror_mode": {
    "name": "ipython",
    "version": 3
   },
   "file_extension": ".py",
   "mimetype": "text/x-python",
   "name": "python",
   "nbconvert_exporter": "python",
   "pygments_lexer": "ipython3",
   "version": "3.6.4"
  }
 },
 "nbformat": 4,
 "nbformat_minor": 2
}
