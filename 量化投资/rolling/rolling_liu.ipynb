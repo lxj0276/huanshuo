{
 "cells": [
  {
   "cell_type": "code",
   "execution_count": 52,
   "metadata": {},
   "outputs": [],
   "source": [
    "import pandas as pd\n",
    "import time"
   ]
  },
  {
   "cell_type": "code",
   "execution_count": 53,
   "metadata": {},
   "outputs": [],
   "source": [
    "def riqi(begin,end):\n",
    "    '''\n",
    "    将输入的开始和结束时间经过筛选给出交易日时间\n",
    "    '''\n",
    "    a = pd.read_excel('/Users/liuhuanshuo/Desktop/pool_date.xlsx')\n",
    "    k = 0\n",
    "    \n",
    "    for i in range(327): \n",
    "        a.ix[k,0] = a.ix[k,0].strftime(\"%Y-%m-%d\")\n",
    "        k = k+1\n",
    "    \n",
    "    s = list(a['日期']).index(begin)\n",
    "    p = list(a['日期']).index(end)\n",
    "    t = a[s:p+1].reset_index(drop=True)\n",
    "    return t"
   ]
  },
  {
   "cell_type": "code",
   "execution_count": 18,
   "metadata": {},
   "outputs": [],
   "source": [
    "def shouyilv(riqilist):\n",
    "    for i in t:\n",
    "        df_list = pd.read_excel('/Users/liuhuanshuo/Desktop/作业/量化/stocks_list.xlsx')\n",
    "        temp = pd.DataFrame(columns = ['代码','日期','市盈率']) \n",
    "        for file in df_list['股票代码']:\n",
    "            excel_path = os.path.join('/Users','liuhuanshuo','desktop','作业','量化','单佳雷数据','沪A股票原始数据/') + file + '.xls'\n",
    "            df = pd.read_excel(excel_path) \n",
    "            df_one = df.loc[:,['代码','日期','市盈率']]  #切片 提取指定列\n",
    "            a = df_one[(df_one.日期 == i) & (df_one.市盈率 > 0)] #选择特定行\n",
    "            temp = temp.append(a,ignore_index=True) #将刚刚选取的行添加到数据框中，可以帮助忽略index，自动递增\n",
    "            \n",
    "    \n",
    "    return stock_list_buy"
   ]
  },
  {
   "cell_type": "code",
   "execution_count": 19,
   "metadata": {},
   "outputs": [],
   "source": [
    "def jiaoyi():\n",
    "    pass\n",
    "    '''return zichan\n",
    "    pass'''"
   ]
  },
  {
   "cell_type": "code",
   "execution_count": 20,
   "metadata": {},
   "outputs": [],
   "source": [
    "def huitu():\n",
    "    pass"
   ]
  },
  {
   "cell_type": "code",
   "execution_count": 50,
   "metadata": {},
   "outputs": [],
   "source": [
    "def jisuan(begin,end):\n",
    "    \n",
    "    riqi_list = riqi(begin,end)\n",
    "    '''benjin = 1000000\n",
    "    shouyilv(begein_date,end_date)\n",
    "    jiaoyi(stock_list)\n",
    "    huitu()'''"
   ]
  },
  {
   "cell_type": "code",
   "execution_count": 51,
   "metadata": {},
   "outputs": [
    {
     "name": "stderr",
     "output_type": "stream",
     "text": [
      "/anaconda3/lib/python3.6/site-packages/ipykernel_launcher.py:7: DeprecationWarning: \n",
      ".ix is deprecated. Please use\n",
      ".loc for label based indexing or\n",
      ".iloc for positional indexing\n",
      "\n",
      "See the documentation here:\n",
      "http://pandas.pydata.org/pandas-docs/stable/indexing.html#ix-indexer-is-deprecated\n",
      "  import sys\n"
     ]
    }
   ],
   "source": [
    "begin ='2016-04-01'\n",
    "end = '2016-06-01'\n",
    "jisuan(begin,end)\n"
   ]
  },
  {
   "cell_type": "code",
   "execution_count": null,
   "metadata": {},
   "outputs": [],
   "source": []
  }
 ],
 "metadata": {
  "kernelspec": {
   "display_name": "Python 3",
   "language": "python",
   "name": "python3"
  },
  "language_info": {
   "codemirror_mode": {
    "name": "ipython",
    "version": 3
   },
   "file_extension": ".py",
   "mimetype": "text/x-python",
   "name": "python",
   "nbconvert_exporter": "python",
   "pygments_lexer": "ipython3",
   "version": "3.6.4"
  }
 },
 "nbformat": 4,
 "nbformat_minor": 2
}
