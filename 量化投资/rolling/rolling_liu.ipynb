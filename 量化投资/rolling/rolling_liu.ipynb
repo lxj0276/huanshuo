{
 "cells": [
  {
   "cell_type": "code",
   "execution_count": 58,
   "metadata": {},
   "outputs": [],
   "source": [
    "import pandas as pd\n",
    "import time\n",
    "import os"
   ]
  },
  {
   "cell_type": "code",
   "execution_count": 53,
   "metadata": {},
   "outputs": [],
   "source": [
    "def riqi(begin,end):\n",
    "    '''\n",
    "    将输入的开始和结束时间经过筛选给出交易日时间\n",
    "    '''\n",
    "    a = pd.read_excel('/Users/liuhuanshuo/Desktop/pool_date.xlsx')\n",
    "    k = 0\n",
    "    \n",
    "    for i in range(327): \n",
    "        a.ix[k,0] = a.ix[k,0].strftime(\"%Y-%m-%d\")\n",
    "        k = k+1\n",
    "    \n",
    "    s = list(a['日期']).index(begin)\n",
    "    p = list(a['日期']).index(end)\n",
    "    t = a[s:p+1].reset_index(drop=True)\n",
    "    return t"
   ]
  },
  {
   "cell_type": "code",
   "execution_count": 55,
   "metadata": {},
   "outputs": [],
   "source": [
    "def shouyilv(jisuanriqi,geshu):\n",
    "    '''\n",
    "    用于计算时间内最后一个交易日的收益率前n个股票\n",
    "    '''\n",
    "    \n",
    "    temp = pd.DataFrame(columns = ['代码','日期','市盈率']) \n",
    "    for i in jisuanriqi.loc['计算日期']:\n",
    "        df_list = pd.read_excel('/Users/liuhuanshuo/Desktop/stocks_list.xlsx')\n",
    "        temp1 = pd.DataFrame(columns = ['代码','日期','市盈率'])\n",
    "        for file in df_list['股票代码']:\n",
    "            excel_path = os.path.join('/Users','liuhuanshuo','desktop','作业','量化','单佳雷数据','沪A股票原始数据/') + file + '.xls'\n",
    "            df = pd.read_excel(excel_path) \n",
    "            df_one = df.loc[:,['代码','日期','市盈率']]    #切片 提取指定列\n",
    "            a = df_one[(df_one.日期 == i) & (df_one.市盈率 > 0)]  #选择特定行\n",
    "            temp1 = temp1.append(a,ignore_index=True)    #将刚刚选取的行添加到数据框中，可以帮助忽略index，自动递增temp_sort = temp.sort_values(by = '市盈率') #排序\n",
    "        temp1_sort = temp1.sort_values(by = '市盈率')  #排序\n",
    "        s = temp1_sort.iloc[0:geshu]\n",
    "        s = s.reset_index(drop=True)\n",
    "        temp = temp.append(s,ignore_index=True)\n",
    "            \n",
    "    return temp"
   ]
  },
  {
   "cell_type": "code",
   "execution_count": 19,
   "metadata": {},
   "outputs": [],
   "source": [
    "def jiaoyi():\n",
    "    benjin = 1000000\n",
    "    \n",
    "    pass"
   ]
  },
  {
   "cell_type": "code",
   "execution_count": 20,
   "metadata": {},
   "outputs": [],
   "source": [
    "def huitu():\n",
    "    pass"
   ]
  },
  {
   "cell_type": "code",
   "execution_count": 61,
   "metadata": {},
   "outputs": [],
   "source": [
    "def jisuan(begin,end):\n",
    "    \n",
    "    riqi_list = riqi(begin,end)\n",
    "    jisuanriqi = riqi_list[riqi_list['Select'] == 'T']\n",
    "    goumaidaima = shouyilv(jisuanriqi,geshu)\n",
    "    print(goumaidaima)"
   ]
  },
  {
   "cell_type": "code",
   "execution_count": 62,
   "metadata": {
    "scrolled": true
   },
   "outputs": [
    {
     "name": "stdout",
     "output_type": "stream",
     "text": [
      "WARNING *** OLE2 inconsistency: SSCS size is 0 but SSAT size is non-zero\n",
      "WARNING *** OLE2 inconsistency: SSCS size is 0 but SSAT size is non-zero\n",
      "WARNING *** OLE2 inconsistency: SSCS size is 0 but SSAT size is non-zero\n",
      "WARNING *** OLE2 inconsistency: SSCS size is 0 but SSAT size is non-zero\n",
      "WARNING *** OLE2 inconsistency: SSCS size is 0 but SSAT size is non-zero\n",
      "WARNING *** OLE2 inconsistency: SSCS size is 0 but SSAT size is non-zero\n",
      "WARNING *** OLE2 inconsistency: SSCS size is 0 but SSAT size is non-zero\n",
      "WARNING *** OLE2 inconsistency: SSCS size is 0 but SSAT size is non-zero\n",
      "WARNING *** OLE2 inconsistency: SSCS size is 0 but SSAT size is non-zero\n",
      "WARNING *** OLE2 inconsistency: SSCS size is 0 but SSAT size is non-zero\n",
      "WARNING *** OLE2 inconsistency: SSCS size is 0 but SSAT size is non-zero\n",
      "WARNING *** OLE2 inconsistency: SSCS size is 0 but SSAT size is non-zero\n",
      "WARNING *** OLE2 inconsistency: SSCS size is 0 but SSAT size is non-zero\n",
      "WARNING *** OLE2 inconsistency: SSCS size is 0 but SSAT size is non-zero\n",
      "WARNING *** OLE2 inconsistency: SSCS size is 0 but SSAT size is non-zero\n",
      "WARNING *** OLE2 inconsistency: SSCS size is 0 but SSAT size is non-zero\n",
      "WARNING *** OLE2 inconsistency: SSCS size is 0 but SSAT size is non-zero\n",
      "WARNING *** OLE2 inconsistency: SSCS size is 0 but SSAT size is non-zero\n",
      "WARNING *** OLE2 inconsistency: SSCS size is 0 but SSAT size is non-zero\n",
      "WARNING *** OLE2 inconsistency: SSCS size is 0 but SSAT size is non-zero\n",
      "WARNING *** OLE2 inconsistency: SSCS size is 0 but SSAT size is non-zero\n",
      "WARNING *** OLE2 inconsistency: SSCS size is 0 but SSAT size is non-zero\n",
      "WARNING *** OLE2 inconsistency: SSCS size is 0 but SSAT size is non-zero\n",
      "WARNING *** OLE2 inconsistency: SSCS size is 0 but SSAT size is non-zero\n",
      "           代码         日期      市盈率\n",
      "0   600015.SH 2016-02-05   5.3759\n",
      "1   600016.SH 2016-02-05   6.6702\n",
      "2   600000.SH 2016-02-05   6.7752\n",
      "3   600011.SH 2016-02-05   7.4866\n",
      "4   600004.SH 2016-02-05  11.3340\n",
      "5   600009.SH 2016-02-05  19.8829\n",
      "6   600012.SH 2016-02-05  21.8939\n",
      "7   600007.SH 2016-02-05  22.8388\n",
      "8   600008.SH 2016-02-05  31.7327\n",
      "9   600006.SH 2016-02-05  34.0903\n",
      "10  600015.SH 2016-02-19   5.3985\n",
      "11  600016.SH 2016-02-19   6.7335\n",
      "12  600000.SH 2016-02-19   6.8010\n",
      "13  600011.SH 2016-02-19   7.6520\n",
      "14  600004.SH 2016-02-19  11.6735\n",
      "15  600009.SH 2016-02-19  21.1617\n",
      "16  600007.SH 2016-02-19  24.2191\n",
      "17  600012.SH 2016-02-19  24.8827\n",
      "18  600008.SH 2016-02-19  33.1710\n",
      "19  600006.SH 2016-02-19  36.0648\n"
     ]
    }
   ],
   "source": [
    "begin ='2016-04-01'\n",
    "end = '2016-06-01'\n",
    "geshu = 10\n",
    "jisuan(begin,end)\n"
   ]
  },
  {
   "cell_type": "code",
   "execution_count": 60,
   "metadata": {},
   "outputs": [
    {
     "ename": "NameError",
     "evalue": "name 'c' is not defined",
     "output_type": "error",
     "traceback": [
      "\u001b[0;31m---------------------------------------------------------------------------\u001b[0m",
      "\u001b[0;31mNameError\u001b[0m                                 Traceback (most recent call last)",
      "\u001b[0;32m<ipython-input-60-2b66fd261ee5>\u001b[0m in \u001b[0;36m<module>\u001b[0;34m()\u001b[0m\n\u001b[0;32m----> 1\u001b[0;31m \u001b[0mc\u001b[0m\u001b[0;34m\u001b[0m\u001b[0m\n\u001b[0m",
      "\u001b[0;31mNameError\u001b[0m: name 'c' is not defined"
     ]
    }
   ],
   "source": []
  },
  {
   "cell_type": "code",
   "execution_count": null,
   "metadata": {},
   "outputs": [],
   "source": []
  }
 ],
 "metadata": {
  "kernelspec": {
   "display_name": "Python 3",
   "language": "python",
   "name": "python3"
  },
  "language_info": {
   "codemirror_mode": {
    "name": "ipython",
    "version": 3
   },
   "file_extension": ".py",
   "mimetype": "text/x-python",
   "name": "python",
   "nbconvert_exporter": "python",
   "pygments_lexer": "ipython3",
   "version": "3.6.4"
  }
 },
 "nbformat": 4,
 "nbformat_minor": 2
}
