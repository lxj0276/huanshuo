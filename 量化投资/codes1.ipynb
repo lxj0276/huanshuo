{
 "cells": [
  {
   "cell_type": "code",
   "execution_count": 2,
   "metadata": {},
   "outputs": [],
   "source": [
    "import pandas as pd\n",
    "import os\n",
    "index_1 = 0\n",
    "index_2 = 0\n",
    "\n",
    "df_list = pd.read_excel('stocks_list.xlsx')"
   ]
  },
  {
   "cell_type": "code",
   "execution_count": 3,
   "metadata": {},
   "outputs": [],
   "source": [
    "df = pd.DataFrame(columns = ['沪A股票代码','日期','日赢率'])\n",
    "df_50 = pd.DataFrame(columns = ['沪A股票代码','日期','日赢率'])"
   ]
  },
  {
   "cell_type": "code",
   "execution_count": null,
   "metadata": {},
   "outputs": [],
   "source": [
    "for file in df_list['股票代码']:\n",
    "    excel_path = os.path.join('user/','liuhuanshuo/','desktop/','i')\n",
    "    df_one = pd.read_excel(excel_path)\n",
    "    df_one = df_one.loc[:,['代码','日期','市盈率']]"
   ]
  },
  {
   "cell_type": "code",
   "execution_count": null,
   "metadata": {},
   "outputs": [],
   "source": [
    "num_row = len(df_one['代码'])\n",
    "for i in range(0,num_row):\n",
    "    if df_one.iloc[i,1] == datetime.datetime(2006,4,1) and if df_one.iloc[i,2] > 0:\n",
    "        df.loc[index_1] = [df_one.iloc[i,0],df_one.iloc[i,1],df_one.iloc[i,2]]\n",
    "        index_1 += 1\n",
    "        break"
   ]
  },
  {
   "cell_type": "code",
   "execution_count": null,
   "metadata": {},
   "outputs": [],
   "source": [
    "#1.2\n",
    "df_sort = df.sort_values(by = '市盈率')\n",
    "for j in range(2):\n",
    "    df_50.loc[index_2] = [df_sort.iloc[j,0],df_sort.iloc[j,1],df_sort.iloc[j,2]]\n",
    "    index2 += 1\n",
    "df_50"
   ]
  }
 ],
 "metadata": {
  "kernelspec": {
   "display_name": "Python 3",
   "language": "python",
   "name": "python3"
  },
  "language_info": {
   "codemirror_mode": {
    "name": "ipython",
    "version": 3
   },
   "file_extension": ".py",
   "mimetype": "text/x-python",
   "name": "python",
   "nbconvert_exporter": "python",
   "pygments_lexer": "ipython3",
   "version": "3.6.4"
  }
 },
 "nbformat": 4,
 "nbformat_minor": 2
}
