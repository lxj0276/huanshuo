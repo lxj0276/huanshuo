{
 "cells": [
  {
   "cell_type": "code",
   "execution_count": 1,
   "metadata": {},
   "outputs": [],
   "source": [
    "import numpy as np\n",
    "dataset_filename=\"/Users/liuhuanshuo/Desktop/Python_book/Python数据挖掘入门与实战/Code_REWRITE/Chapter 1/affinity_dataset.txt\"\n",
    "#加载数据文件\n",
    "dataset=np.loadtxt(dataset_filename)"
   ]
  },
  {
   "cell_type": "code",
   "execution_count": 18,
   "metadata": {
    "scrolled": true
   },
   "outputs": [
    {
     "name": "stdout",
     "output_type": "stream",
     "text": [
      "[[1. 0. 0. 0. 1.]\n",
      " [1. 1. 0. 0. 1.]\n",
      " [0. 1. 0. 0. 0.]\n",
      " [1. 0. 0. 0. 1.]\n",
      " [0. 1. 0. 0. 1.]]\n"
     ]
    }
   ],
   "source": [
    "print(dataset[:5]) #一行表示一个用户对五个商品的购买情况,1表示买了，0表示没买\n"
   ]
  },
  {
   "cell_type": "code",
   "execution_count": 19,
   "metadata": {},
   "outputs": [
    {
     "name": "stdout",
     "output_type": "stream",
     "text": [
      "100 samples in total with 5 features\n"
     ]
    }
   ],
   "source": [
    "n_samples, n_features=dataset.shape\n",
    "print(\"{0} samples in total with {1} features\".format(n_samples,n_features))\n"
   ]
  },
  {
   "cell_type": "code",
   "execution_count": 21,
   "metadata": {},
   "outputs": [],
   "source": [
    "#定义特征名集合\n",
    "features=[\"bread\",\"milk\",\"cheese\",\"apple\",\"banana\"]"
   ]
  },
  {
   "cell_type": "code",
   "execution_count": 22,
   "metadata": {},
   "outputs": [],
   "source": [
    "#目标一 ， 找出以下规则:要找出用户购买了apple, 那他也可能购买banana\n",
    "# 前提：计算规则的支持度和置信度\n",
    "#支持度:数据集中规则应验的次数.\n",
    "#置信度: 符合给定条件的所有规则里，跟当前规则结论一致的比例有多少. \n"
   ]
  },
  {
   "cell_type": "code",
   "execution_count": 23,
   "metadata": {},
   "outputs": [
    {
     "name": "stdout",
     "output_type": "stream",
     "text": [
      "38 people bought apples\n"
     ]
    }
   ],
   "source": [
    "#首先, 有多少行有这条规则的前提条件\n",
    "num_apple_purchases=0\n",
    "for sample in dataset:\n",
    "    if sample[3]==1:\n",
    "        num_apple_purchases+=1\n",
    "print(\"{0} people bought apples\".format(num_apple_purchases))"
   ]
  },
  {
   "cell_type": "code",
   "execution_count": 24,
   "metadata": {},
   "outputs": [
    {
     "name": "stdout",
     "output_type": "stream",
     "text": [
      "21.0 cases of the rule being valid\n",
      "17 cases of the rule being invalid\n"
     ]
    }
   ],
   "source": [
    "#下面可以计算这条规则的应验数和无效数\n",
    "rule_valid=0.0\n",
    "rule_invalid=0\n",
    "for sample in dataset:\n",
    "    if sample[3]==1:\n",
    "        if sample[4]==1:\n",
    "            rule_valid+=1\n",
    "        else:\n",
    "            rule_invalid+=1\n",
    "print(\"{0} cases of the rule being valid\".format(rule_valid))\n",
    "print(\"{0} cases of the rule being invalid\".format(rule_invalid))"
   ]
  },
  {
   "cell_type": "code",
   "execution_count": 25,
   "metadata": {},
   "outputs": [
    {
     "name": "stdout",
     "output_type": "stream",
     "text": [
      "the support is 21.0 and the confidence is 0.553\n"
     ]
    }
   ],
   "source": [
    "#支持度\n",
    "support=rule_valid\n",
    "#置信度\n",
    "confidence=rule_valid/num_apple_purchases\n",
    "print(\"the support is {0} and the confidence is {1:.3f}\".format(support, confidence))"
   ]
  },
  {
   "cell_type": "code",
   "execution_count": 26,
   "metadata": {},
   "outputs": [],
   "source": [
    "################################################################\n",
    "#有了上面的案例，用于理解支持度和置信度\n",
    "#下面开始所有的规则的支持度和置信度的计算"
   ]
  },
  {
   "cell_type": "code",
   "execution_count": 27,
   "metadata": {},
   "outputs": [],
   "source": [
    "from collections import defaultdict\n",
    "#数据格式采用字典：{ 键(前提,结论), 值(数值)}\n",
    "valid_rules=defaultdict(int)    #每条规则的支持度\n",
    "invalid_rules=defaultdict(int)  #每条规则的无效数\n",
    "#数据格式采用字典：{ 键(前提), 值(数值)}\n",
    "num_rule_occurances=defaultdict(float)   #规则条件出现的次数\n"
   ]
  },
  {
   "cell_type": "code",
   "execution_count": 28,
   "metadata": {},
   "outputs": [
    {
     "data": {
      "text/plain": [
       "5"
      ]
     },
     "execution_count": 28,
     "metadata": {},
     "output_type": "execute_result"
    }
   ],
   "source": [
    "n_features"
   ]
  },
  {
   "cell_type": "code",
   "execution_count": 29,
   "metadata": {},
   "outputs": [],
   "source": [
    "for sample in dataset:\n",
    "    for premise in range(n_features):    \n",
    "        if sample[premise] ==0: continue    #这个商品没有购买，则表示这个前提不成立,跳过循环\n",
    "        num_rule_occurances[premise]+=1.0     #出现了一次前提条件\n",
    "        for conclusion in range(n_features):   #计算它的支持度和无效数\n",
    "            if premise==conclusion:\n",
    "                continue\n",
    "            if sample[conclusion]==1:\n",
    "                valid_rules[(premise,conclusion)]+=1\n",
    "            else:\n",
    "                invalid_rules[(premise,conclusion)]+=1\n",
    "                              \n",
    "support=valid_rules\n",
    "confidence=defaultdict(float)\n",
    "for premise,conclusion in valid_rules.keys():\n",
    "    confidence[(premise,conclusion)]=valid_rules[(premise,conclusion)]/num_rule_occurances[premise]"
   ]
  },
  {
   "cell_type": "code",
   "execution_count": 30,
   "metadata": {},
   "outputs": [
    {
     "name": "stdout",
     "output_type": "stream",
     "text": [
      "Rule: if a person buys bread they will also buy banana\n",
      " this rule's support is :13\n",
      " this rule's confidence is :0.52\n",
      "\n",
      "Rule: if a person buys banana they will also buy bread\n",
      " this rule's support is :13\n",
      " this rule's confidence is :0.21666666666666667\n",
      "\n",
      "Rule: if a person buys bread they will also buy milk\n",
      " this rule's support is :15\n",
      " this rule's confidence is :0.6\n",
      "\n",
      "Rule: if a person buys milk they will also buy bread\n",
      " this rule's support is :15\n",
      " this rule's confidence is :0.2631578947368421\n",
      "\n",
      "Rule: if a person buys milk they will also buy banana\n",
      " this rule's support is :32\n",
      " this rule's confidence is :0.5614035087719298\n",
      "\n",
      "Rule: if a person buys banana they will also buy milk\n",
      " this rule's support is :32\n",
      " this rule's confidence is :0.5333333333333333\n",
      "\n",
      "Rule: if a person buys cheese they will also buy apple\n",
      " this rule's support is :21\n",
      " this rule's confidence is :0.5\n",
      "\n",
      "Rule: if a person buys cheese they will also buy banana\n",
      " this rule's support is :27\n",
      " this rule's confidence is :0.6428571428571429\n",
      "\n",
      "Rule: if a person buys apple they will also buy cheese\n",
      " this rule's support is :21\n",
      " this rule's confidence is :0.5526315789473685\n",
      "\n",
      "Rule: if a person buys apple they will also buy banana\n",
      " this rule's support is :21\n",
      " this rule's confidence is :0.5526315789473685\n",
      "\n",
      "Rule: if a person buys banana they will also buy cheese\n",
      " this rule's support is :27\n",
      " this rule's confidence is :0.45\n",
      "\n",
      "Rule: if a person buys banana they will also buy apple\n",
      " this rule's support is :21\n",
      " this rule's confidence is :0.35\n",
      "\n",
      "Rule: if a person buys bread they will also buy cheese\n",
      " this rule's support is :3\n",
      " this rule's confidence is :0.12\n",
      "\n",
      "Rule: if a person buys milk they will also buy cheese\n",
      " this rule's support is :12\n",
      " this rule's confidence is :0.21052631578947367\n",
      "\n",
      "Rule: if a person buys cheese they will also buy bread\n",
      " this rule's support is :3\n",
      " this rule's confidence is :0.07142857142857142\n",
      "\n",
      "Rule: if a person buys cheese they will also buy milk\n",
      " this rule's support is :12\n",
      " this rule's confidence is :0.2857142857142857\n",
      "\n",
      "Rule: if a person buys milk they will also buy apple\n",
      " this rule's support is :17\n",
      " this rule's confidence is :0.2982456140350877\n",
      "\n",
      "Rule: if a person buys apple they will also buy milk\n",
      " this rule's support is :17\n",
      " this rule's confidence is :0.4473684210526316\n",
      "\n",
      "Rule: if a person buys bread they will also buy apple\n",
      " this rule's support is :5\n",
      " this rule's confidence is :0.2\n",
      "\n",
      "Rule: if a person buys apple they will also buy bread\n",
      " this rule's support is :5\n",
      " this rule's confidence is :0.13157894736842105\n",
      "\n"
     ]
    }
   ],
   "source": [
    "#下面将结果输出一下\n",
    "for premise, conclusion in confidence:\n",
    "    #求出规则前提条件商品名\n",
    "    premise_name=features[premise]\n",
    "    #求出规则条件的结论对应的商品名\n",
    "    conclusion_name=features[conclusion]\n",
    "    print(\"Rule: if a person buys {0} they will also buy {1}\".format(premise_name,conclusion_name))\n",
    "    print(\" this rule's support is :{0}\".format( support[(premise,conclusion)]     )  )\n",
    "    print(\" this rule's confidence is :{0}\".format( confidence[(premise,conclusion)]     )  )\n",
    "    print(\"\")\n",
    "    "
   ]
  },
  {
   "cell_type": "code",
   "execution_count": 31,
   "metadata": {},
   "outputs": [],
   "source": [
    "'''\n",
    "  将输出部分定义成一个函数\n",
    "  premise: 前提 的索引\n",
    "  conclusion: 结论的索引\n",
    "  support: 支持度字典\n",
    "  confidence: 置信度字典\n",
    "  features: 特征数组\n",
    "'''\n",
    "def print_rule( premise,conclusion,support,confidence,features):\n",
    "     #求出规则前提条件商品名\n",
    "    premise_name=features[premise]\n",
    "    #求出规则条件的结论对应的商品名\n",
    "    conclusion_name=features[conclusion]\n",
    "    print(\"Rule: if a person buys {0} they will also buy {1}\".format(premise_name,conclusion_name))\n",
    "    print(\" this rule's support is :{0}\".format( support[(premise,conclusion)]     )  )\n",
    "    print(\" this rule's confidence is :{0}\".format( confidence[(premise,conclusion)]     )  )\n",
    "    print(\"\")"
   ]
  },
  {
   "cell_type": "code",
   "execution_count": 32,
   "metadata": {},
   "outputs": [
    {
     "name": "stdout",
     "output_type": "stream",
     "text": [
      "Rule: if a person buys milk they will also buy apple\n",
      " this rule's support is :17\n",
      " this rule's confidence is :0.2982456140350877\n",
      "\n"
     ]
    }
   ],
   "source": [
    "    \n",
    "#调用上面的函数，输出计算好的规则的支持度和置信度,比如，买了milk后又买apple的支持度和置信度\n",
    "premise=1\n",
    "conclusion=3\n",
    "print_rule(premise,conclusion,support,confidence,features)"
   ]
  },
  {
   "cell_type": "code",
   "execution_count": 33,
   "metadata": {},
   "outputs": [
    {
     "name": "stdout",
     "output_type": "stream",
     "text": [
      "[((0, 4), 13),\n",
      " ((4, 0), 13),\n",
      " ((0, 1), 15),\n",
      " ((1, 0), 15),\n",
      " ((1, 4), 32),\n",
      " ((4, 1), 32),\n",
      " ((2, 3), 21),\n",
      " ((2, 4), 27),\n",
      " ((3, 2), 21),\n",
      " ((3, 4), 21),\n",
      " ((4, 2), 27),\n",
      " ((4, 3), 21),\n",
      " ((0, 2), 3),\n",
      " ((1, 2), 12),\n",
      " ((2, 0), 3),\n",
      " ((2, 1), 12),\n",
      " ((1, 3), 17),\n",
      " ((3, 1), 17),\n",
      " ((0, 3), 5),\n",
      " ((3, 0), 5)]\n",
      "Rule #1\n",
      "Rule: if a person buys milk they will also buy banana\n",
      " this rule's support is :32\n",
      " this rule's confidence is :0.5614035087719298\n",
      "\n",
      "Rule #2\n",
      "Rule: if a person buys banana they will also buy milk\n",
      " this rule's support is :32\n",
      " this rule's confidence is :0.5333333333333333\n",
      "\n",
      "Rule #3\n",
      "Rule: if a person buys cheese they will also buy banana\n",
      " this rule's support is :27\n",
      " this rule's confidence is :0.6428571428571429\n",
      "\n",
      "Rule #4\n",
      "Rule: if a person buys banana they will also buy cheese\n",
      " this rule's support is :27\n",
      " this rule's confidence is :0.45\n",
      "\n",
      "Rule #5\n",
      "Rule: if a person buys cheese they will also buy apple\n",
      " this rule's support is :21\n",
      " this rule's confidence is :0.5\n",
      "\n"
     ]
    }
   ],
   "source": [
    "###################################################################################\n",
    "'''\n",
    "  下面对支持度进行排序\n",
    "'''\n",
    "#先排序输出\n",
    "from pprint import pprint\n",
    "pprint(list(support.items()))\n",
    "#排好序后存到字典中\n",
    "from operator import itemgetter\n",
    "#                根据支持度的值排序 \n",
    "sorted_support=sorted(support.items(), key=itemgetter(1),reverse=True)\n",
    "#输出前三名\n",
    "for index in range(5):\n",
    "    print(\"Rule #{0}\".format(index+1))\n",
    "    (premise,conclusion)=sorted_support[index][0]   #取出键\n",
    "    print_rule( premise, conclusion, support,confidence,features)"
   ]
  },
  {
   "cell_type": "code",
   "execution_count": 34,
   "metadata": {},
   "outputs": [
    {
     "name": "stdout",
     "output_type": "stream",
     "text": [
      "[((0, 4), 0.52),\n",
      " ((4, 0), 0.21666666666666667),\n",
      " ((0, 1), 0.6),\n",
      " ((1, 0), 0.2631578947368421),\n",
      " ((1, 4), 0.5614035087719298),\n",
      " ((4, 1), 0.5333333333333333),\n",
      " ((2, 3), 0.5),\n",
      " ((2, 4), 0.6428571428571429),\n",
      " ((3, 2), 0.5526315789473685),\n",
      " ((3, 4), 0.5526315789473685),\n",
      " ((4, 2), 0.45),\n",
      " ((4, 3), 0.35),\n",
      " ((0, 2), 0.12),\n",
      " ((1, 2), 0.21052631578947367),\n",
      " ((2, 0), 0.07142857142857142),\n",
      " ((2, 1), 0.2857142857142857),\n",
      " ((1, 3), 0.2982456140350877),\n",
      " ((3, 1), 0.4473684210526316),\n",
      " ((0, 3), 0.2),\n",
      " ((3, 0), 0.13157894736842105)]\n",
      "Rule #1\n",
      "Rule: if a person buys cheese they will also buy banana\n",
      " this rule's support is :27\n",
      " this rule's confidence is :0.6428571428571429\n",
      "\n",
      "Rule #2\n",
      "Rule: if a person buys bread they will also buy milk\n",
      " this rule's support is :15\n",
      " this rule's confidence is :0.6\n",
      "\n",
      "Rule #3\n",
      "Rule: if a person buys milk they will also buy banana\n",
      " this rule's support is :32\n",
      " this rule's confidence is :0.5614035087719298\n",
      "\n",
      "Rule #4\n",
      "Rule: if a person buys apple they will also buy cheese\n",
      " this rule's support is :21\n",
      " this rule's confidence is :0.5526315789473685\n",
      "\n",
      "Rule #5\n",
      "Rule: if a person buys apple they will also buy banana\n",
      " this rule's support is :21\n",
      " this rule's confidence is :0.5526315789473685\n",
      "\n"
     ]
    }
   ],
   "source": [
    "'''\n",
    "  下面对信任度进行排序\n",
    "'''\n",
    "#先排序输出\n",
    "pprint(list(confidence.items()))\n",
    "#排好序后存到字典中\n",
    "#                根据信任度的值排序 \n",
    "sorted_confidence=sorted(confidence.items(), key=itemgetter(1),reverse=True)\n",
    "#输出前三名\n",
    "for index in range(5):\n",
    "    print(\"Rule #{0}\".format(index+1))\n",
    "    (premise,conclusion)=sorted_confidence[index][0]   #取出键\n",
    "    print_rule( premise, conclusion, support,confidence,features)"
   ]
  },
  {
   "cell_type": "code",
   "execution_count": null,
   "metadata": {},
   "outputs": [],
   "source": []
  }
 ],
 "metadata": {
  "kernelspec": {
   "display_name": "Python 3",
   "language": "python",
   "name": "python3"
  },
  "language_info": {
   "codemirror_mode": {
    "name": "ipython",
    "version": 3
   },
   "file_extension": ".py",
   "mimetype": "text/x-python",
   "name": "python",
   "nbconvert_exporter": "python",
   "pygments_lexer": "ipython3",
   "version": "3.6.4"
  }
 },
 "nbformat": 4,
 "nbformat_minor": 2
}
