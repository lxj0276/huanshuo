{
 "cells": [
  {
   "cell_type": "code",
   "execution_count": 1,
   "metadata": {},
   "outputs": [
    {
     "data": {
      "text/plain": [
       "'\\n模型的保存实际上就是tensorflow中变量的保存。tensorflow提供了tf.train.Saver类的save()方法来保存变量\\n'"
      ]
     },
     "execution_count": 1,
     "metadata": {},
     "output_type": "execute_result"
    }
   ],
   "source": [
    "'''\n",
    "模型的保存实际上就是tensorflow中变量的保存。tensorflow提供了tf.train.Saver类的save()方法来保存变量\n",
    "'''"
   ]
  },
  {
   "cell_type": "code",
   "execution_count": 10,
   "metadata": {},
   "outputs": [],
   "source": [
    "import tensorflow as tf\n",
    "import numpy as np"
   ]
  },
  {
   "cell_type": "code",
   "execution_count": 9,
   "metadata": {},
   "outputs": [
    {
     "data": {
      "text/plain": [
       "'示例代码'"
      ]
     },
     "execution_count": 9,
     "metadata": {},
     "output_type": "execute_result"
    }
   ],
   "source": [
    "#保存模型示例\n",
    "tf.reset_default_graph() # 重置图\n",
    "v1 = tf.Variable(1, name=\"v1\")\n",
    "v2 = tf.Variable(2, name=\"v2\")\n",
    "step = 0\n",
    "\n",
    "init_op = tf.global_variables_initializer()\n",
    "saver = tf.train.Saver()\n",
    "\n",
    "with tf.Session() as sess:\n",
    "    sess.run(init_op)\n",
    "    while True:\n",
    "        step += 1\n",
    "        '''......\n",
    "        训练模型'''\n",
    "        if step % 10000 == 0:\n",
    "            save_path = saver.save(sess,\"./model/model.ckpt\", global_step=step)\n",
    "            print(\"Model saved in file: %s\" % save_path)"
   ]
  },
  {
   "cell_type": "code",
   "execution_count": null,
   "metadata": {},
   "outputs": [],
   "source": [
    "#指定GPU\n",
    "with tf.device(\"/cpu:0\"):\n",
    "    v1 = tf.constant(1)\n",
    "    v2 = tf.constant(2)\n",
    "with tf.device(\"/gpu:0\"):\n",
    "    v3 = tf.constant(3)\n",
    "    v4 = tf.constant(4)\n",
    "with tf.device(\"/gpu:1\"):\n",
    "    v5 = tf.constant(5)\n",
    "with tf.Session(config=tf.ConfigProto(log_device_placement=True)) as sess:\n",
    "    print(sess.run(v5))"
   ]
  },
  {
   "cell_type": "code",
   "execution_count": 17,
   "metadata": {},
   "outputs": [
    {
     "name": "stdout",
     "output_type": "stream",
     "text": [
      "value1: 2\n",
      "value2: 2\n",
      "4.0\n"
     ]
    }
   ],
   "source": [
    "#读取示例代码\n",
    "tf.reset_default_graph() # 重置图\n",
    "v1 = tf.placeholder(tf.float32) #创建占位符\n",
    "v2 = tf.placeholder(tf.float32)\n",
    "v_mul = tf.multiply(v1,v2)\n",
    "\n",
    "with tf.Session() as sess:\n",
    "    while True:\n",
    "        value1 = input(\"value1: \") #接受输入值 \n",
    "        value2 = input(\"value2: \")\n",
    "        mul_result = sess.run(v_mul,feed_dict={v1:value1,v2:value2}) #使用feed_dict填充 \n",
    "        print(mul_result)\n",
    "        break"
   ]
  },
  {
   "cell_type": "code",
   "execution_count": 12,
   "metadata": {},
   "outputs": [],
   "source": []
  },
  {
   "cell_type": "code",
   "execution_count": null,
   "metadata": {},
   "outputs": [],
   "source": []
  }
 ],
 "metadata": {
  "kernelspec": {
   "display_name": "Python 3",
   "language": "python",
   "name": "python3"
  },
  "language_info": {
   "codemirror_mode": {
    "name": "ipython",
    "version": 3
   },
   "file_extension": ".py",
   "mimetype": "text/x-python",
   "name": "python",
   "nbconvert_exporter": "python",
   "pygments_lexer": "ipython3",
   "version": "3.6.4"
  }
 },
 "nbformat": 4,
 "nbformat_minor": 2
}
