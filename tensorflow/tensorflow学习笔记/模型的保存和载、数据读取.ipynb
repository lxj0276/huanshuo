{
 "cells": [
  {
   "cell_type": "code",
   "execution_count": 1,
   "metadata": {},
   "outputs": [
    {
     "data": {
      "text/plain": [
       "'\\n模型的保存实际上就是tensorflow中变量的保存。tensorflow提供了tf.train.Saver类的save()方法来保存变量\\n'"
      ]
     },
     "execution_count": 1,
     "metadata": {},
     "output_type": "execute_result"
    }
   ],
   "source": [
    "'''\n",
    "模型的保存实际上就是tensorflow中变量的保存。tensorflow提供了tf.train.Saver类的save()方法来保存变量\n",
    "'''"
   ]
  },
  {
   "cell_type": "code",
   "execution_count": 10,
   "metadata": {},
   "outputs": [],
   "source": [
    "import tensorflow as tf\n",
    "import numpy as np"
   ]
  },
  {
   "cell_type": "code",
   "execution_count": 9,
   "metadata": {},
   "outputs": [
    {
     "data": {
      "text/plain": [
       "'示例代码'"
      ]
     },
     "execution_count": 9,
     "metadata": {},
     "output_type": "execute_result"
    }
   ],
   "source": [
    "#保存模型示例\n",
    "tf.reset_default_graph() # 重置图\n",
    "v1 = tf.Variable(1, name=\"v1\")\n",
    "v2 = tf.Variable(2, name=\"v2\")\n",
    "step = 0\n",
    "\n",
    "init_op = tf.global_variables_initializer()\n",
    "saver = tf.train.Saver()\n",
    "\n",
    "with tf.Session() as sess:\n",
    "    sess.run(init_op)\n",
    "    while True:\n",
    "        step += 1\n",
    "        '''......\n",
    "        训练模型'''\n",
    "        if step % 10000 == 0:\n",
    "            save_path = saver.save(sess,\"./model/model.ckpt\", global_step=step)\n",
    "            print(\"Model saved in file: %s\" % save_path)"
   ]
  },
  {
   "cell_type": "code",
   "execution_count": null,
   "metadata": {},
   "outputs": [],
   "source": [
    "#指定GPU\n",
    "with tf.device(\"/cpu:0\"):\n",
    "    v1 = tf.constant(1)\n",
    "    v2 = tf.constant(2)\n",
    "with tf.device(\"/gpu:0\"):\n",
    "    v3 = tf.constant(3)\n",
    "    v4 = tf.constant(4)\n",
    "with tf.device(\"/gpu:1\"):\n",
    "    v5 = tf.constant(5)\n",
    "with tf.Session(config=tf.ConfigProto(log_device_placement=True)) as sess:\n",
    "    print(sess.run(v5))"
   ]
  },
  {
   "cell_type": "code",
   "execution_count": 17,
   "metadata": {},
   "outputs": [
    {
     "name": "stdout",
     "output_type": "stream",
     "text": [
      "value1: 2\n",
      "value2: 2\n",
      "4.0\n"
     ]
    }
   ],
   "source": [
    "#读取示例代码\n",
    "tf.reset_default_graph() # 重置图\n",
    "v1 = tf.placeholder(tf.float32) #创建占位符\n",
    "v2 = tf.placeholder(tf.float32)\n",
    "v_mul = tf.multiply(v1,v2)\n",
    "\n",
    "with tf.Session() as sess:\n",
    "    while True:\n",
    "        value1 = input(\"value1: \") #接受输入值 \n",
    "        value2 = input(\"value2: \")\n",
    "        mul_result = sess.run(v_mul,feed_dict={v1:value1,v2:value2}) #使用feed_dict填充 \n",
    "        print(mul_result)\n",
    "        break"
   ]
  },
  {
   "cell_type": "code",
   "execution_count": 20,
   "metadata": {},
   "outputs": [
    {
     "name": "stdout",
     "output_type": "stream",
     "text": [
      "2.000000\t2.000000\t4.000000\n",
      "2.000000\t3.000000\t6.000000\n",
      "3.000000\t4.000000\t12.000000\n",
      "1.000000\t2.000000\t2.000000\n",
      "1.000000\t3.000000\t3.000000\n",
      "1.000000\t4.000000\t4.000000\n",
      "2.000000\t2.000000\t4.000000\n",
      "2.000000\t3.000000\t6.000000\n",
      "3.000000\t4.000000\t12.000000\n",
      "1.000000\t2.000000\t2.000000\n",
      "1.000000\t3.000000\t3.000000\n",
      "1.000000\t4.000000\t4.000000\n",
      "Done training -- epoch limit reached\n"
     ]
    }
   ],
   "source": [
    "#读取csv文件\n",
    "filename_queue = tf.train.string_input_producer([\"file0.csv\", \"file1.csv\"],shuffle=True,num_epochs=2) #将文件名列表传入\n",
    "#先将输入的文件名列表产生一个FIFO的文件名队列。shuffle表示是否将文件序列随机打乱。num_epochs表示读取数据的最大迭代次数\n",
    "\n",
    "reader = tf.TextLineReader() #先读取文本\n",
    "key, value = reader.read(filename_queue) #读取数据\n",
    "\n",
    "# 默认值是1.0,这里也默认指定了要读入数据的类型是float\n",
    "record_defaults = [[1.0], [1.0]]\n",
    "v1, v2 = tf.decode_csv(\n",
    "    value, record_defaults=record_defaults)\n",
    "v_mul = tf.multiply(v1,v2)\n",
    "\n",
    "init_op = tf.global_variables_initializer()\n",
    "local_init_op = tf.local_variables_initializer()\n",
    "\n",
    "# 创建会话\n",
    "sess = tf.Session()\n",
    "\n",
    "# 初始化变量\n",
    "sess.run(init_op)\n",
    "sess.run(local_init_op)\n",
    "\n",
    "# 输入数据进入队列\n",
    "coord = tf.train.Coordinator() #读写分离\n",
    "threads = tf.train.start_queue_runners(sess=sess, coord=coord)\n",
    "\n",
    "try:\n",
    "    while not coord.should_stop():\n",
    "        value1, value2, mul_result = sess.run([v1,v2,v_mul])\n",
    "        print(\"%f\\t%f\\t%f\"%(value1, value2, mul_result))\n",
    "\n",
    "except tf.errors.OutOfRangeError:\n",
    "    print('Done training -- epoch limit reached')\n",
    "finally:\n",
    "    coord.request_stop()\n",
    "\n",
    "# 等待线程结束\n",
    "coord.join(threads)\n",
    "sess.close()"
   ]
  },
  {
   "cell_type": "code",
   "execution_count": null,
   "metadata": {},
   "outputs": [],
   "source": []
  }
 ],
 "metadata": {
  "kernelspec": {
   "display_name": "Python 3",
   "language": "python",
   "name": "python3"
  },
  "language_info": {
   "codemirror_mode": {
    "name": "ipython",
    "version": 3
   },
   "file_extension": ".py",
   "mimetype": "text/x-python",
   "name": "python",
   "nbconvert_exporter": "python",
   "pygments_lexer": "ipython3",
   "version": "3.6.4"
  }
 },
 "nbformat": 4,
 "nbformat_minor": 2
}
