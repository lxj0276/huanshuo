{
 "cells": [
  {
   "cell_type": "code",
   "execution_count": null,
   "metadata": {},
   "outputs": [],
   "source": [
    "#将图结构记录到文件演示\n",
    "import tensorflow as tf\n",
    "import os\n",
    "os.environ['TF_CPP_MIN_LOG_LEVEL'] = '2'\n",
    "\n",
    "\n",
    "x = tf.constant(1.0, name=\"input\")\n",
    "w = tf.Variable(0.5, name=\"weight\")\n",
    "b = tf.Variable(0.1, name=\"bias\")\n",
    "y = tf.add(tf.multiply(x,w, name=\"mul_op\") , b, name = \"add_op\")\n",
    "\n",
    "summary_writer = tf.summary.FileWriter('.calc_graph') #设置写入文件夹\n",
    "graph = tf.get_default_graph() #获得默认图\n",
    "summary_writer.add_graph(graph) \n",
    "\n",
    "summary_writer.flush() #将图写入文件"
   ]
  },
  {
   "cell_type": "code",
   "execution_count": null,
   "metadata": {},
   "outputs": [],
   "source": []
  }
 ],
 "metadata": {
  "kernelspec": {
   "display_name": "Python 3",
   "language": "python",
   "name": "python3"
  },
  "language_info": {
   "codemirror_mode": {
    "name": "ipython",
    "version": 3
   },
   "file_extension": ".py",
   "mimetype": "text/x-python",
   "name": "python",
   "nbconvert_exporter": "python",
   "pygments_lexer": "ipython3",
   "version": "3.6.4"
  }
 },
 "nbformat": 4,
 "nbformat_minor": 2
}
